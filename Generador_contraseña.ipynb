{
  "nbformat": 4,
  "nbformat_minor": 0,
  "metadata": {
    "colab": {
      "provenance": [],
      "authorship_tag": "ABX9TyNSGxAyqRkzw4pJ0/oAdyBb",
      "include_colab_link": true
    },
    "kernelspec": {
      "name": "python3",
      "display_name": "Python 3"
    },
    "language_info": {
      "name": "python"
    }
  },
  "cells": [
    {
      "cell_type": "markdown",
      "metadata": {
        "id": "view-in-github",
        "colab_type": "text"
      },
      "source": [
        "<a href=\"https://colab.research.google.com/github/Andersonvalenzuela/Repositorio-/blob/main/Generador_contrase%C3%B1a.ipynb\" target=\"_parent\"><img src=\"https://colab.research.google.com/assets/colab-badge.svg\" alt=\"Open In Colab\"/></a>"
      ]
    },
    {
      "cell_type": "code",
      "execution_count": null,
      "metadata": {
        "id": "STEq02rNnk-c"
      },
      "outputs": [],
      "source": [
        "import random\n",
        "import string\n",
        "\n",
        "def generar_contrasena(longitud):\n",
        "    caracteres = string.ascii_letters + string.digits + string.punctuation\n",
        "    contrasena = ''.join(random.choice(caracteres) for _ in range(longitud))\n",
        "    return contrasena\n",
        "\n",
        "# Solicitar al usuario la longitud de la contraseña\n",
        "longitud = int(input(\"Ingrese la longitud de la contraseña: \"))\n",
        "\n",
        "# Generar y mostrar la contraseña\n",
        "contrasena_generada = generar_contrasena(longitud)\n",
        "print(\"Contraseña generada:\", contrasena_generada)\n"
      ]
    }
  ]
}